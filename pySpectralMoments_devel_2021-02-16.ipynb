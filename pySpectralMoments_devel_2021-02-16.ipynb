{
 "cells": [
  {
   "cell_type": "markdown",
   "metadata": {
    "toc": true
   },
   "source": [
    "<h1>Table of Contents<span class=\"tocSkip\"></span></h1>\n",
    "<div class=\"toc\"><ul class=\"toc-item\"><li><span><a href=\"#Background\" data-toc-modified-id=\"Background-1\"><span class=\"toc-item-num\">1&nbsp;&nbsp;</span>Background</a></span></li><li><span><a href=\"#imports\" data-toc-modified-id=\"imports-2\"><span class=\"toc-item-num\">2&nbsp;&nbsp;</span>imports</a></span></li><li><span><a href=\"#Moment-function-development\" data-toc-modified-id=\"Moment-function-development-3\"><span class=\"toc-item-num\">3&nbsp;&nbsp;</span>Moment function development</a></span></li><li><span><a href=\"#Test-on-a-skew-normal-distribution\" data-toc-modified-id=\"Test-on-a-skew-normal-distribution-4\"><span class=\"toc-item-num\">4&nbsp;&nbsp;</span>Test on a skew normal distribution</a></span></li><li><span><a href=\"#spectrum-to-statistics\" data-toc-modified-id=\"spectrum-to-statistics-5\"><span class=\"toc-item-num\">5&nbsp;&nbsp;</span>spectrum to statistics</a></span></li><li><span><a href=\"#SkewedGaussianModel-with-lmfit\" data-toc-modified-id=\"SkewedGaussianModel-with-lmfit-6\"><span class=\"toc-item-num\">6&nbsp;&nbsp;</span>SkewedGaussianModel with lmfit</a></span></li></ul></div>"
   ]
  },
  {
   "cell_type": "markdown",
   "metadata": {},
   "source": [
    "# ```pySpectralMoments``` development"
   ]
  },
  {
   "cell_type": "markdown",
   "metadata": {},
   "source": [
    "## Background"
   ]
  },
  {
   "cell_type": "markdown",
   "metadata": {},
   "source": [
    "We want to develop an analysis function for extracting the moments of a spectrum, \n",
    "\n",
    "for source of the moments (definition) see:\n",
    "https://doi.org/10.1016/S0926-2040(00)00063-1\n",
    "\n",
    "$S(f)$ is the spectral function that describes our NMR spectrum.\n",
    "\n",
    "The zeroth moment:\n",
    "\n",
    "$M_0 = \\int_{f_\\mathrm{min}}^{f_\\mathrm{max}} S(f)\\,df$\n",
    "\n",
    "is just the integral of the spectral function, the area under the spectrum.\n",
    "\n",
    "The first moment:\n",
    "\n",
    "$M_1 = \\frac{1}{M_0}\\int_{f_\\mathrm{min}}^{f_\\mathrm{max}}\n",
    "f S(f)\\,df$\n",
    "\n",
    "is the isotropic shift of the spectrum, also called the center of gravity.\n",
    "\n",
    "The second moment:\n",
    "\n",
    "$M_2 = \\frac{1}{M_0}\\int_{f_\\mathrm{min}}^{f_\\mathrm{max}}\n",
    "(f - M_1)^2 S(f)\\,df$\n",
    "\n",
    "is a measure of the linewidth of the spectrum.\n",
    "\n",
    "The third moment:\n",
    "\n",
    "$M_3 = \\frac{1}{M_0}\\int_{f_\\mathrm{min}}^{f_\\mathrm{max}}\n",
    "(f - M_1)^3 S(f)\\,df$\n",
    "\n",
    "is a measure of the skewness of the spectrum"
   ]
  },
  {
   "cell_type": "markdown",
   "metadata": {},
   "source": [
    "## imports"
   ]
  },
  {
   "cell_type": "code",
   "execution_count": 49,
   "metadata": {
    "ExecuteTime": {
     "end_time": "2021-02-16T12:49:26.917655Z",
     "start_time": "2021-02-16T12:49:26.913089Z"
    }
   },
   "outputs": [],
   "source": [
    "import numpy as np\n",
    "from scipy import integrate\n",
    "from scipy import stats\n",
    "from scipy.stats import skewnorm\n",
    "import matplotlib.pyplot as plt\n",
    "from scipy.signal import savgol_filter"
   ]
  },
  {
   "cell_type": "markdown",
   "metadata": {},
   "source": [
    "## Moment function development"
   ]
  },
  {
   "cell_type": "code",
   "execution_count": 2,
   "metadata": {
    "ExecuteTime": {
     "end_time": "2021-02-12T13:04:46.078590Z",
     "start_time": "2021-02-12T13:04:46.072330Z"
    }
   },
   "outputs": [
    {
     "data": {
      "text/plain": [
       "40.5"
      ]
     },
     "execution_count": 2,
     "metadata": {},
     "output_type": "execute_result"
    }
   ],
   "source": [
    "x = np.arange(0, 10)\n",
    "y = np.arange(0, 10)\n",
    "integrate.simpson(y, x)"
   ]
  },
  {
   "cell_type": "code",
   "execution_count": 3,
   "metadata": {
    "ExecuteTime": {
     "end_time": "2021-02-12T13:04:48.791762Z",
     "start_time": "2021-02-12T13:04:48.783817Z"
    }
   },
   "outputs": [],
   "source": [
    "#https://docs.scipy.org/doc/scipy/reference/generated/scipy.integrate.simpson.html#scipy.integrate.simpson\n",
    "#scipy.integrate.simpson(y, x=None, dx=1, axis=- 1, even='avg') note, need version 1.6 for this function\n",
    "\n",
    "def calc_spec_moments(S, \n",
    "                      f, \n",
    "                      f_min=None, \n",
    "                      f_max=None):\n",
    "    \"\"\"\n",
    "    function to calculate the moments of an NMR frequency spectrum. \n",
    "    inputs are 1d numpy arrays for the spectral function S \n",
    "    and the frequency f. one can also choose integration limits via the f_min \n",
    "    and f_max variables. returns a tuple of the spectral moments \n",
    "    (M0 = area, \n",
    "     M1 = center of gravity,\n",
    "     M2 = measure of width,\n",
    "     M3 = measure of skewness)\n",
    "    \"\"\"\n",
    "    # trim the arrays if we have given integration limits\n",
    "    if (f_min is not None) and (f_max is not None):\n",
    "        S = S[np.logical_and(f > f_min, f < f_max)]\n",
    "        f = f[np.logical_and(f > f_min, f < f_max)]\n",
    "        \n",
    "    # calculate the moments via the simpson integration method\n",
    "    M0 = integrate.simpson(y=S, x=f)\n",
    "    M1 = integrate.simpson(y=S*f, x=f)/M0\n",
    "    M2 = integrate.simpson(y=S*(f - M1)**2, x=f)/M0\n",
    "    M3 = integrate.simpson(y=S*(f - M1)**3, x=f)/M0\n",
    "    \n",
    "    # also return useful parameters such as the linewidth and skewness\n",
    "    sigma = (M2)**0.5\n",
    "    skewness = M3/sigma**3\n",
    "    \n",
    "    return (M0, M1, M2, M3, sigma, skewness)"
   ]
  },
  {
   "cell_type": "code",
   "execution_count": 45,
   "metadata": {
    "ExecuteTime": {
     "end_time": "2021-02-12T13:32:09.675993Z",
     "start_time": "2021-02-12T13:32:09.668040Z"
    }
   },
   "outputs": [],
   "source": [
    "#https://docs.scipy.org/doc/scipy/reference/generated/scipy.integrate.trapezoid.html#scipy.integrate.trapezoid\n",
    "# scipy.integrate.trapezoid(y, x=None, dx=1.0, axis=- 1)\n",
    "\n",
    "def calc_spec_moments_trap(S, \n",
    "                           f, \n",
    "                           f_min=None, \n",
    "                           f_max=None):\n",
    "    \"\"\"\n",
    "    function to calculate the moments of an NMR frequency spectrum. \n",
    "    inputs are 1d numpy arrays for the spectral function S \n",
    "    and the frequency f. one can also choose integration limits via the f_min \n",
    "    and f_max variables. returns a tuple of the spectral moments \n",
    "    (M0 = area, \n",
    "     M1 = center of gravity,\n",
    "     M2 = measure of width,\n",
    "     M3 = measure of skewness)\n",
    "    \"\"\"\n",
    "    # trim the arrays if we have given integration limits\n",
    "    if (f_min is not None) and (f_max is not None):\n",
    "        S = S[np.logical_and(f > f_min, f < f_max)]\n",
    "        f = f[np.logical_and(f > f_min, f < f_max)]\n",
    "        \n",
    "    # calculate the moments via the simpson integration method\n",
    "    M0 = integrate.trapezoid(y=S, x=f)\n",
    "    M1 = integrate.trapezoid(y=S*f, x=f)/M0\n",
    "    M2 = integrate.trapezoid(y=S*(f - M1)**2, x=f)/M0\n",
    "    M3 = integrate.trapezoid(y=S*(f - M1)**3, x=f)/M0\n",
    "    \n",
    "    # also return useful parameters such as the linewidth and skewness\n",
    "    sigma = (M2)**0.5\n",
    "    skewness = M3/sigma**3\n",
    "    \n",
    "    return (M0, M1, M2, M3, sigma, skewness)"
   ]
  },
  {
   "cell_type": "code",
   "execution_count": 4,
   "metadata": {
    "ExecuteTime": {
     "end_time": "2021-02-12T13:04:52.050466Z",
     "start_time": "2021-02-12T13:04:52.045967Z"
    }
   },
   "outputs": [
    {
     "data": {
      "text/plain": [
       "0.04500512870610074"
      ]
     },
     "execution_count": 4,
     "metadata": {},
     "output_type": "execute_result"
    }
   ],
   "source": [
    "# @ 23.95 T in https://doi.org/10.1103/PhysRevLett.106.057003 \n",
    "0.04500512870610074"
   ]
  },
  {
   "cell_type": "code",
   "execution_count": 46,
   "metadata": {
    "ExecuteTime": {
     "end_time": "2021-02-12T13:32:15.127358Z",
     "start_time": "2021-02-12T13:32:15.122371Z"
    }
   },
   "outputs": [],
   "source": [
    "exp_data = np.genfromtxt(fname='25T_spectrum_Mounce.txt', \n",
    "                         delimiter=' ', \n",
    "                         skip_header=1, \n",
    "                         missing_values='nan')\n",
    "exp_x = exp_data[:, 0]\n",
    "exp_y = exp_data[:, 1]"
   ]
  },
  {
   "cell_type": "code",
   "execution_count": 47,
   "metadata": {
    "ExecuteTime": {
     "end_time": "2021-02-12T13:32:16.942651Z",
     "start_time": "2021-02-12T13:32:16.937665Z"
    }
   },
   "outputs": [
    {
     "data": {
      "text/plain": [
       "(0.017720474479399312,\n",
       " 0.014957253054012513,\n",
       " 0.0032615467296504197,\n",
       " 7.06832308701622e-05,\n",
       " 0.0571099529823867,\n",
       " 0.37947309083181313)"
      ]
     },
     "execution_count": 47,
     "metadata": {},
     "output_type": "execute_result"
    }
   ],
   "source": [
    "calc_spec_moments(S=exp_y, f=exp_x)"
   ]
  },
  {
   "cell_type": "markdown",
   "metadata": {},
   "source": [
    "the above is not exactly the same, in terms of linewidth, but close in magnitude, lets do some more careful tests below based on real functions"
   ]
  },
  {
   "cell_type": "code",
   "execution_count": 7,
   "metadata": {
    "ExecuteTime": {
     "end_time": "2021-02-12T10:11:58.146768Z",
     "start_time": "2021-02-12T10:11:58.144722Z"
    }
   },
   "outputs": [],
   "source": [
    "## Test on a normal distribution"
   ]
  },
  {
   "cell_type": "code",
   "execution_count": 48,
   "metadata": {
    "ExecuteTime": {
     "end_time": "2021-02-12T13:32:53.958621Z",
     "start_time": "2021-02-12T13:32:53.954631Z"
    }
   },
   "outputs": [],
   "source": [
    "def gaussian(x, mu, sigma):\n",
    "    return np.exp(-(x - mu)**2/(2*sigma**2))"
   ]
  },
  {
   "cell_type": "code",
   "execution_count": 107,
   "metadata": {
    "ExecuteTime": {
     "end_time": "2021-02-12T13:55:51.900065Z",
     "start_time": "2021-02-12T13:55:51.749969Z"
    }
   },
   "outputs": [
    {
     "data": {
      "image/png": "[encoded data removed]",
      "text/plain": [
       "<Figure size 432x288 with 1 Axes>"
      ]
     },
     "metadata": {
      "needs_background": "light"
     },
     "output_type": "display_data"
    }
   ],
   "source": [
    "x = np.linspace(-10, 10, 1000)\n",
    "gauss = gaussian(x=x_test_data,\n",
    "                   mu=0.0,\n",
    "                   sigma=1.4)\n",
    "\n",
    "# add some gaussian noise\n",
    "noise = np.random.normal(0, 0.005, 1000)\n",
    "noisy_gauss = gauss + noise\n",
    "plt.plot(x, noisy_gauss)\n",
    "plt.plot(x, gauss)\n",
    "plt.show()"
   ]
  },
  {
   "cell_type": "code",
   "execution_count": 108,
   "metadata": {
    "ExecuteTime": {
     "end_time": "2021-02-12T13:56:04.840789Z",
     "start_time": "2021-02-12T13:56:04.835802Z"
    }
   },
   "outputs": [
    {
     "data": {
      "text/plain": [
       "(3.5092795844801925, 0.0, 1.9599999999068656, 0.0, 1.3999999999667376, 0.0)"
      ]
     },
     "execution_count": 108,
     "metadata": {},
     "output_type": "execute_result"
    }
   ],
   "source": [
    "calc_spec_moments(S=gauss, f=x)"
   ]
  },
  {
   "cell_type": "code",
   "execution_count": 109,
   "metadata": {
    "ExecuteTime": {
     "end_time": "2021-02-12T13:56:04.840789Z",
     "start_time": "2021-02-12T13:56:04.835802Z"
    }
   },
   "outputs": [
    {
     "data": {
      "text/plain": [
       "(3.508069548241054,\n",
       " -0.0017958649647494209,\n",
       " 1.9806970686134528,\n",
       " -0.10916497541690488,\n",
       " 1.4073723986967532,\n",
       " -0.03916122180531203)"
      ]
     },
     "execution_count": 109,
     "metadata": {},
     "output_type": "execute_result"
    }
   ],
   "source": [
    "calc_spec_moments(S=noisy_gauss, f=x)"
   ]
  },
  {
   "cell_type": "code",
   "execution_count": 110,
   "metadata": {
    "ExecuteTime": {
     "end_time": "2021-02-12T13:56:19.754132Z",
     "start_time": "2021-02-12T13:56:19.637444Z"
    }
   },
   "outputs": [
    {
     "data": {
      "image/png": "[encoded data removed]",
      "text/plain": [
       "<Figure size 432x288 with 1 Axes>"
      ]
     },
     "metadata": {
      "needs_background": "light"
     },
     "output_type": "display_data"
    }
   ],
   "source": [
    "noisy_gauss_filt = savgol_filter(x=noisy_gauss, \n",
    "                                 window_length=57, \n",
    "                                 polyorder=4)\n",
    "#plt.plot(x, noisy_gauss)\n",
    "#plt.plot(x, gauss)\n",
    "plt.plot(x, noisy_gauss_filt)\n",
    "plt.show()"
   ]
  },
  {
   "cell_type": "code",
   "execution_count": 111,
   "metadata": {
    "ExecuteTime": {
     "end_time": "2021-02-12T13:56:24.883470Z",
     "start_time": "2021-02-12T13:56:24.877846Z"
    }
   },
   "outputs": [
    {
     "data": {
      "text/plain": [
       "(3.5080916832097038,\n",
       " -0.00165025310564274,\n",
       " 1.981615722572943,\n",
       " -0.09658625128410667,\n",
       " 1.4076987328874537,\n",
       " -0.0346247105419245)"
      ]
     },
     "execution_count": 111,
     "metadata": {},
     "output_type": "execute_result"
    }
   ],
   "source": [
    "calc_spec_moments(S=noisy_gauss_filt, f=x)"
   ]
  },
  {
   "cell_type": "code",
   "execution_count": 112,
   "metadata": {
    "ExecuteTime": {
     "end_time": "2021-02-12T13:57:12.466014Z",
     "start_time": "2021-02-12T13:57:12.459033Z"
    }
   },
   "outputs": [
    {
     "data": {
      "text/plain": [
       "(3.505073754104779,\n",
       " 0.0016425635636863672,\n",
       " 1.943949828609243,\n",
       " 0.01057149874231647,\n",
       " 1.394256012577763,\n",
       " 0.003900398532941851)"
      ]
     },
     "execution_count": 112,
     "metadata": {},
     "output_type": "execute_result"
    }
   ],
   "source": [
    "calc_spec_moments(S=noisy_gauss_filt, \n",
    "                  f=x, \n",
    "                  f_min=-5, \n",
    "                  f_max=5)"
   ]
  },
  {
   "cell_type": "code",
   "execution_count": null,
   "metadata": {},
   "outputs": [],
   "source": []
  },
  {
   "cell_type": "markdown",
   "metadata": {},
   "source": [
    "## Test on a skew normal distribution"
   ]
  },
  {
   "cell_type": "markdown",
   "metadata": {
    "ExecuteTime": {
     "end_time": "2021-02-12T10:55:02.588521Z",
     "start_time": "2021-02-12T10:55:02.582502Z"
    }
   },
   "source": [
    "https://en.wikipedia.org/wiki/Skew_normal_distribution\n",
    "\n",
    "\\begin{equation}\n",
    "\\frac{2}{\\omega\\sqrt{2\\pi}}e^{-\\frac{(x - \\xi)^2}{2\\omega^2}} \\int_{-\\infty}^{\\alpha\\left( \\frac{x-\\xi}{\\omega} \\right)} \\frac{1}{\\sqrt{2\\pi}} e^{-\\frac{t^2}{2}}\\,dt\n",
    "\\end{equation}\n",
    "\n",
    "where $\\xi$ is the location, $\\omega$ is the scale, and $\\alpha$ is the shape.\n",
    "\n",
    "The skewness is:\n",
    "\n",
    "\\begin{equation}\n",
    "\\gamma_1 = \\frac{4-\\pi}{2} \\frac{(\\delta\\sqrt{2/\\pi})^3}{(1 - 2\\delta^2/\\pi)^{3/2}}\n",
    "\\end{equation}\n",
    "\n",
    "with \n",
    "\n",
    "\\begin{equation}\n",
    "\\delta = \\frac{\\alpha}{\\sqrt{1+\\alpha^2}} \n",
    "\\end{equation}"
   ]
  },
  {
   "cell_type": "code",
   "execution_count": 10,
   "metadata": {
    "ExecuteTime": {
     "end_time": "2021-02-12T13:05:22.085025Z",
     "start_time": "2021-02-12T13:05:22.079041Z"
    }
   },
   "outputs": [
    {
     "data": {
      "text/plain": [
       "(array(0.75693976), array(0.4270422), array(0.66702357))"
      ]
     },
     "execution_count": 10,
     "metadata": {},
     "output_type": "execute_result"
    }
   ],
   "source": [
    "a = 3\n",
    "mean, var, skew, kurt = skewnorm.stats(a, moments='mvsk')\n",
    "mean, var, skew"
   ]
  },
  {
   "cell_type": "code",
   "execution_count": 11,
   "metadata": {
    "ExecuteTime": {
     "end_time": "2021-02-12T13:05:24.371734Z",
     "start_time": "2021-02-12T13:05:24.365751Z"
    }
   },
   "outputs": [
    {
     "data": {
      "text/plain": [
       "0.6670235701524079"
      ]
     },
     "execution_count": 11,
     "metadata": {},
     "output_type": "execute_result"
    }
   ],
   "source": [
    "delta = a/(1+a**2)**0.5\n",
    "(4-np.pi)*(delta*(2/np.pi)**0.5)**3/(2*(1-2*delta**2/np.pi)**1.5)"
   ]
  },
  {
   "cell_type": "code",
   "execution_count": 12,
   "metadata": {
    "ExecuteTime": {
     "end_time": "2021-02-12T13:05:26.424847Z",
     "start_time": "2021-02-12T13:05:26.319129Z"
    }
   },
   "outputs": [
    {
     "data": {
      "image/png": "[encoded data removed]",
      "text/plain": [
       "<Figure size 432x288 with 1 Axes>"
      ]
     },
     "metadata": {
      "needs_background": "light"
     },
     "output_type": "display_data"
    }
   ],
   "source": [
    "x = np.linspace(-5, 5, 1000)\n",
    "skew_norm = skewnorm.pdf(x, a)\n",
    "plt.plot(x, skew_norm)\n",
    "plt.show()"
   ]
  },
  {
   "cell_type": "code",
   "execution_count": 43,
   "metadata": {
    "ExecuteTime": {
     "end_time": "2021-02-12T13:25:08.629426Z",
     "start_time": "2021-02-12T13:25:08.624411Z"
    }
   },
   "outputs": [
    {
     "data": {
      "text/plain": [
       "(0.9999994266998893,\n",
       " 0.7569372171330984,\n",
       " 0.42703118217542646,\n",
       " 0.18609656459461346,\n",
       " 0.6534762292351777,\n",
       " 0.666881965410274)"
      ]
     },
     "execution_count": 43,
     "metadata": {},
     "output_type": "execute_result"
    }
   ],
   "source": [
    "calc_spec_moments(S=skew_norm, f=x)"
   ]
  },
  {
   "cell_type": "code",
   "execution_count": null,
   "metadata": {},
   "outputs": [],
   "source": []
  },
  {
   "cell_type": "code",
   "execution_count": 14,
   "metadata": {
    "ExecuteTime": {
     "end_time": "2021-02-12T13:05:31.235724Z",
     "start_time": "2021-02-12T13:05:31.230767Z"
    }
   },
   "outputs": [
    {
     "data": {
      "text/plain": [
       "0.6534846630711212"
      ]
     },
     "execution_count": 14,
     "metadata": {},
     "output_type": "execute_result"
    }
   ],
   "source": [
    "var**0.5"
   ]
  },
  {
   "cell_type": "code",
   "execution_count": 39,
   "metadata": {
    "ExecuteTime": {
     "end_time": "2021-02-12T13:23:21.305501Z",
     "start_time": "2021-02-12T13:23:21.193511Z"
    }
   },
   "outputs": [
    {
     "data": {
      "image/png": "[encoded data removed]",
      "text/plain": [
       "<Figure size 432x288 with 1 Axes>"
      ]
     },
     "metadata": {
      "needs_background": "light"
     },
     "output_type": "display_data"
    }
   ],
   "source": [
    "noise = np.random.normal(0, 0.005, 1000)\n",
    "skew_norm_noise = skew_norm + noise\n",
    "\n",
    "plt.plot(x, skew_norm_noise)\n",
    "plt.plot(x, skew_norm)\n",
    "plt.show()"
   ]
  },
  {
   "cell_type": "code",
   "execution_count": 40,
   "metadata": {
    "ExecuteTime": {
     "end_time": "2021-02-12T13:23:24.521038Z",
     "start_time": "2021-02-12T13:23:24.514058Z"
    }
   },
   "outputs": [
    {
     "data": {
      "text/plain": [
       "(1.0001516824009342,\n",
       " 0.7649537220357159,\n",
       " 0.4344477956082286,\n",
       " 0.2692602790889251,\n",
       " 0.6591265399058276,\n",
       " 0.9402988277378341)"
      ]
     },
     "execution_count": 40,
     "metadata": {},
     "output_type": "execute_result"
    }
   ],
   "source": [
    "calc_spec_moments(S=skew_norm_noise, f=x)"
   ]
  },
  {
   "cell_type": "code",
   "execution_count": 41,
   "metadata": {
    "ExecuteTime": {
     "end_time": "2021-02-12T13:23:49.041412Z",
     "start_time": "2021-02-12T13:23:49.034461Z"
    }
   },
   "outputs": [
    {
     "data": {
      "text/plain": [
       "(1.0001428997214985,\n",
       " 0.7649878914057967,\n",
       " 0.43418609859725865,\n",
       " 0.27045882440538727,\n",
       " 0.6589279919666933,\n",
       " 0.9453383669354579)"
      ]
     },
     "execution_count": 41,
     "metadata": {},
     "output_type": "execute_result"
    }
   ],
   "source": [
    "calc_spec_moments_trap(S=skew_norm_noise, f=x)"
   ]
  },
  {
   "cell_type": "markdown",
   "metadata": {},
   "source": [
    "## spectrum to statistics"
   ]
  },
  {
   "cell_type": "markdown",
   "metadata": {},
   "source": [
    "great! so we are getting the skewness properly now lets try one more thing, basically ignoring the integration method, and intead reverse engineering a raw 1D data set of frequencies, based on the \"histogram\" that is our spectrum. then we can perform statistics on that data, perhaps this will not work, but its worth a shot, as clearly it is known that the integration methods are very noise-sensitive.\n",
    "\n",
    "This idea was not a good one... proceed with fitting to a skewed gaussian model below, which will be much better and able to characterize the uncertainty properly using lmfit"
   ]
  },
  {
   "cell_type": "code",
   "execution_count": 114,
   "metadata": {
    "ExecuteTime": {
     "end_time": "2021-02-12T14:37:25.120330Z",
     "start_time": "2021-02-12T14:37:25.114376Z"
    }
   },
   "outputs": [
    {
     "data": {
      "text/plain": [
       "-0.012056073893963435"
      ]
     },
     "execution_count": 114,
     "metadata": {},
     "output_type": "execute_result"
    }
   ],
   "source": []
  },
  {
   "cell_type": "code",
   "execution_count": 120,
   "metadata": {
    "ExecuteTime": {
     "end_time": "2021-02-12T14:43:57.558633Z",
     "start_time": "2021-02-12T14:43:57.553620Z"
    }
   },
   "outputs": [
    {
     "data": {
      "text/plain": [
       "0.0"
      ]
     },
     "execution_count": 120,
     "metadata": {},
     "output_type": "execute_result"
    }
   ],
   "source": [
    "skew_norm_noise_pos = skew_norm_noise + abs(skew_norm_noise.min())\n"
   ]
  },
  {
   "cell_type": "code",
   "execution_count": 141,
   "metadata": {
    "ExecuteTime": {
     "end_time": "2021-02-12T15:18:51.026099Z",
     "start_time": "2021-02-12T15:18:51.013965Z"
    }
   },
   "outputs": [],
   "source": [
    "import scipy.stats\n",
    "\n",
    "import numpy as np\n",
    "\n",
    "data = scipy.stats.norm.rvs(size=100000, loc=0, scale=1.5, random_state=123)\n",
    "\n",
    "hist = np.histogram(data, bins=100)\n",
    "\n",
    "hist_dist = scipy.stats.rv_histogram(hist)"
   ]
  },
  {
   "cell_type": "code",
   "execution_count": 140,
   "metadata": {
    "ExecuteTime": {
     "end_time": "2021-02-12T15:18:47.250380Z",
     "start_time": "2021-02-12T15:18:47.246389Z"
    }
   },
   "outputs": [
    {
     "name": "stdout",
     "output_type": "stream",
     "text": [
      "0.11175242169845606\n"
     ]
    }
   ],
   "source": [
    "print(hist_dist.moment(3))"
   ]
  },
  {
   "cell_type": "markdown",
   "metadata": {},
   "source": [
    "## SkewedGaussianModel with lmfit"
   ]
  },
  {
   "cell_type": "markdown",
   "metadata": {},
   "source": [
    "working with data from:\n",
    "    Z:\\Ulrich\\Processed Measurement Data 07-09_20\\FePS_data_ab_07_2020\\09_20_out_of_plane_vol_2\\2020-09-01-outofplane_goni_290K"
   ]
  },
  {
   "cell_type": "code",
   "execution_count": 12,
   "metadata": {
    "ExecuteTime": {
     "end_time": "2021-02-16T12:01:22.079857Z",
     "start_time": "2021-02-16T12:01:21.955319Z"
    }
   },
   "outputs": [
    {
     "data": {
      "image/png": "[encoded data removed]",
      "text/plain": [
       "<Figure size 432x288 with 1 Axes>"
      ]
     },
     "metadata": {
      "needs_background": "light"
     },
     "output_type": "display_data"
    }
   ],
   "source": [
    "# import the data\n",
    "data = np.genfromtxt(fname='07_835_119870_MHz_echoFFT_apd.txt', \n",
    "                         delimiter='\\t', \n",
    "                         skip_header=1, \n",
    "                         missing_values='nan')\n",
    "x = data[:, 0]\n",
    "y = data[:, 1]\n",
    "\n",
    "plt.plot(x, y)\n",
    "plt.show()\n"
   ]
  },
  {
   "cell_type": "code",
   "execution_count": 15,
   "metadata": {
    "ExecuteTime": {
     "end_time": "2021-02-16T12:04:17.173490Z",
     "start_time": "2021-02-16T12:04:17.169501Z"
    }
   },
   "outputs": [],
   "source": [
    "from lmfit.models import GaussianModel\n",
    "from lmfit.models import SkewedGaussianModel\n",
    "from lmfit.models import ConstantModel"
   ]
  },
  {
   "cell_type": "code",
   "execution_count": 21,
   "metadata": {
    "ExecuteTime": {
     "end_time": "2021-02-16T12:09:45.108641Z",
     "start_time": "2021-02-16T12:09:44.947222Z"
    }
   },
   "outputs": [
    {
     "name": "stdout",
     "output_type": "stream",
     "text": [
      "[[Model]]\n",
      "    (Model(gaussian) + Model(constant))\n",
      "[[Fit Statistics]]\n",
      "    # fitting method   = leastsq\n",
      "    # function evals   = 69\n",
      "    # data points      = 1024\n",
      "    # variables        = 4\n",
      "    chi-square         = 5.72481486\n",
      "    reduced chi-square = 0.00561256\n",
      "    Akaike info crit   = -5303.14147\n",
      "    Bayesian info crit = -5283.41559\n",
      "[[Variables]]\n",
      "    c:          0.08657906 +/- 0.00285402 (3.30%) (init = 0.1041015)\n",
      "    amplitude:  0.04582040 +/- 6.5292e-04 (1.42%) (init = 0.4346177)\n",
      "    center:     119.870442 +/- 3.3212e-04 (0.00%) (init = 119.8715)\n",
      "    sigma:      0.02460587 +/- 3.5801e-04 (1.45%) (init = 0.1453125)\n",
      "    fwhm:       0.05794239 +/- 8.4305e-04 (1.45%) == '2.3548200*sigma'\n",
      "    height:     0.74289978 +/- 0.00891518 (1.20%) == '0.3989423*amplitude/max(1e-15, sigma)'\n",
      "[[Correlations]] (unreported correlations are < 0.100)\n",
      "    C(amplitude, sigma) =  0.653\n",
      "    C(c, amplitude)     = -0.572\n",
      "    C(c, sigma)         = -0.373\n"
     ]
    },
    {
     "data": {
      "image/png": "[encoded data removed]",
      "text/plain": [
       "<Figure size 432x288 with 1 Axes>"
      ]
     },
     "metadata": {
      "needs_background": "light"
     },
     "output_type": "display_data"
    }
   ],
   "source": [
    "peak = GaussianModel()\n",
    "offset = ConstantModel()\n",
    "model = peak + offset\n",
    "\n",
    "pars = offset.make_params(c=np.median(y))\n",
    "pars += peak.guess(y, x=x)\n",
    "out = model.fit(y, pars, x=x)\n",
    "\n",
    "print(out.fit_report())\n",
    "\n",
    "plt.plot(x, y, 'b')\n",
    "plt.plot(x, out.init_fit, 'k--', label='initial fit')\n",
    "plt.plot(x, out.best_fit, 'r-', label='best fit')\n",
    "plt.legend(loc='best')\n",
    "plt.show()"
   ]
  },
  {
   "cell_type": "code",
   "execution_count": 22,
   "metadata": {
    "ExecuteTime": {
     "end_time": "2021-02-16T12:09:50.785955Z",
     "start_time": "2021-02-16T12:09:50.620372Z"
    }
   },
   "outputs": [
    {
     "name": "stdout",
     "output_type": "stream",
     "text": [
      "[[Model]]\n",
      "    (Model(skewed_gaussian) + Model(constant))\n",
      "[[Fit Statistics]]\n",
      "    # fitting method   = leastsq\n",
      "    # function evals   = 112\n",
      "    # data points      = 1024\n",
      "    # variables        = 5\n",
      "    chi-square         = 4.52108375\n",
      "    reduced chi-square = 0.00443678\n",
      "    Akaike info crit   = -5542.86536\n",
      "    Bayesian info crit = -5518.20800\n",
      "[[Variables]]\n",
      "    c:          0.08331306 +/- 0.00257044 (3.09%) (init = 0.1041015)\n",
      "    amplitude:  0.04712680 +/- 6.0324e-04 (1.28%) (init = 0.4346177)\n",
      "    center:     119.844737 +/- 4.2069e-04 (0.00%) (init = 119.8715)\n",
      "    sigma:      0.04140077 +/- 7.5276e-04 (1.82%) (init = 0.1453125)\n",
      "    gamma:      3.31153355 +/- 0.19318160 (5.83%) (init = 0)\n",
      "[[Correlations]] (unreported correlations are < 0.100)\n",
      "    C(center, sigma)     = -0.756\n",
      "    C(sigma, gamma)      =  0.682\n",
      "    C(center, gamma)     = -0.607\n",
      "    C(c, amplitude)      = -0.587\n",
      "    C(amplitude, sigma)  =  0.535\n",
      "    C(amplitude, center) = -0.353\n",
      "    C(c, sigma)          = -0.314\n",
      "    C(c, center)         =  0.207\n"
     ]
    },
    {
     "data": {
      "image/png": "[encoded data removed]",
      "text/plain": [
       "<Figure size 432x288 with 1 Axes>"
      ]
     },
     "metadata": {
      "needs_background": "light"
     },
     "output_type": "display_data"
    }
   ],
   "source": [
    "peak = SkewedGaussianModel()\n",
    "offset = ConstantModel()\n",
    "model = peak + offset\n",
    "\n",
    "pars = offset.make_params(c=np.median(y))\n",
    "pars += peak.guess(y, x=x)\n",
    "out = model.fit(y, pars, x=x)\n",
    "\n",
    "print(out.fit_report())\n",
    "\n",
    "plt.plot(x, y, 'b')\n",
    "plt.plot(x, out.init_fit, 'k--', label='initial fit')\n",
    "plt.plot(x, out.best_fit, 'r-', label='best fit')\n",
    "plt.legend(loc='best')\n",
    "plt.show()"
   ]
  },
  {
   "cell_type": "markdown",
   "metadata": {},
   "source": [
    "but what is gamma?? It turns out to be alpha from the wikipedia page:\n",
    "    https://en.wikipedia.org/wiki/Skew_normal_distribution\n",
    "    \n",
    "this was confusing, because that same wiki page also defined it as"
   ]
  },
  {
   "cell_type": "code",
   "execution_count": 31,
   "metadata": {
    "ExecuteTime": {
     "end_time": "2021-02-16T12:41:36.415963Z",
     "start_time": "2021-02-16T12:41:36.407985Z"
    }
   },
   "outputs": [],
   "source": [
    "from scipy.special import erf\n",
    "from numpy import pi, sqrt, exp\n",
    "s2pi = sqrt(2*pi)\n",
    "s2 = sqrt(2.0)\n",
    "tiny = 1.0e-15\n",
    "\n",
    "def gaussian(x, amplitude=1.0, center=0.0, sigma=1.0):\n",
    "    \"\"\"Return a 1-dimensional Gaussian function.\n",
    "    gaussian(x, amplitude, center, sigma) =\n",
    "        (amplitude/(s2pi*sigma)) * exp(-(1.0*x-center)**2 / (2*sigma**2))\n",
    "    \"\"\"\n",
    "    return ((amplitude/(max(tiny, s2pi*sigma)))\n",
    "            * exp(-(1.0*x-center)**2 / max(tiny, (2*sigma**2))))\n",
    "\n",
    "def skewed_gaussian(x, amplitude=1.0, center=0.0, sigma=1.0, gamma=0.0):\n",
    "    \"\"\"Return a Gaussian lineshape, skewed with error function.\n",
    "    Equal to: gaussian(x, center, sigma)*(1+erf(beta*(x-center)))\n",
    "    where ``beta = gamma/(sigma*sqrt(2))``\n",
    "    with ``gamma < 0``: tail to low value of centroid\n",
    "         ``gamma > 0``: tail to high value of centroid\n",
    "    For more information, see:\n",
    "    https://en.wikipedia.org/wiki/Skew_normal_distribution\n",
    "    \"\"\"\n",
    "    asym = 1 + erf(gamma*(x-center)/max(tiny, (s2*sigma)))\n",
    "    return asym * gaussian(x, amplitude, center, sigma)"
   ]
  },
  {
   "cell_type": "code",
   "execution_count": 87,
   "metadata": {
    "ExecuteTime": {
     "end_time": "2021-02-16T13:10:44.757062Z",
     "start_time": "2021-02-16T13:10:44.636356Z"
    }
   },
   "outputs": [
    {
     "data": {
      "image/png": "[encoded data removed]",
      "text/plain": [
       "<Figure size 432x288 with 1 Axes>"
      ]
     },
     "metadata": {
      "needs_background": "light"
     },
     "output_type": "display_data"
    }
   ],
   "source": [
    "x = np.linspace(-10,10,1000)\n",
    "sg = skewed_gaussian(x, amplitude=1.0, center=0.0, sigma=1.0, gamma=5.2)\n",
    "plt.plot(x, sg)\n",
    "plt.show()"
   ]
  },
  {
   "cell_type": "code",
   "execution_count": 91,
   "metadata": {
    "ExecuteTime": {
     "end_time": "2021-02-16T13:12:59.110317Z",
     "start_time": "2021-02-16T13:12:55.538755Z"
    }
   },
   "outputs": [
    {
     "data": {
      "text/plain": [
       "0.8614457386143608"
      ]
     },
     "execution_count": 91,
     "metadata": {},
     "output_type": "execute_result"
    }
   ],
   "source": [
    "import random\n",
    "dist = np.array(random.choices(x,weights=sg,k=int(4e6)))\n",
    "stats.skew(dist)"
   ]
  },
  {
   "cell_type": "code",
   "execution_count": 108,
   "metadata": {
    "ExecuteTime": {
     "end_time": "2021-02-16T15:27:38.774108Z",
     "start_time": "2021-02-16T15:27:38.614627Z"
    }
   },
   "outputs": [
    {
     "data": {
      "image/png": "[encoded data removed]",
      "text/latex": [
       "$\\displaystyle 3 \\sqrt{2} \\pi \\sqrt{\\frac{\\gamma^{4} \\gamma_{err}^{2}}{\\left(- 2 \\gamma^{2} + \\pi \\left(\\gamma^{2} + 1\\right)\\right)^{5}}} \\left(4 - \\pi\\right)$"
      ],
      "text/plain": [
       "              ________________________        \n",
       "             ╱         4     2                \n",
       "            ╱         γ ⋅γₑᵣᵣ                 \n",
       "3⋅√2⋅π⋅    ╱   ────────────────────── ⋅(4 - π)\n",
       "          ╱                         5         \n",
       "         ╱     ⎛     2     ⎛ 2    ⎞⎞          \n",
       "       ╲╱      ⎝- 2⋅γ  + π⋅⎝γ  + 1⎠⎠          "
      ]
     },
     "execution_count": 108,
     "metadata": {},
     "output_type": "execute_result"
    }
   ],
   "source": [
    "# calculated the uncertatinty in the skewness based on the uncertainty in gamma\n",
    "import sympy as sp\n",
    "\n",
    "gamma, gamma_err = sp.symbols('gamma gamma_err')\n",
    "\n",
    "# the following come from the above cited wikipedia page\n",
    "delta = gamma/(1+gamma**2)**sp.Rational(1, 2)\n",
    "skewness = (4-sp.pi)*(delta*(2/sp.pi)**sp.Rational(1, 2))**3/(2*((1-2*delta**2/sp.pi))**sp.Rational(3, 2))\n",
    "\n",
    "# so the uncertainty in in the skewness, based on gamma and the uncertainty in gamma, is given by\n",
    "sp.simplify(sp.sqrt(sp.diff(skewness, gamma)**2*gamma_err**2))"
   ]
  },
  {
   "cell_type": "code",
   "execution_count": 109,
   "metadata": {
    "ExecuteTime": {
     "end_time": "2021-02-16T15:27:41.085414Z",
     "start_time": "2021-02-16T15:27:41.079430Z"
    }
   },
   "outputs": [],
   "source": [
    "def calc_skewness(gamma, gamma_err=None):\n",
    "    delta = gamma/(1+gamma**2)**0.5\n",
    "    skewness = (4-np.pi)*(delta*(2/np.pi)**0.5)**3/(2*((1-2*delta**2/np.pi))**1.5)\n",
    "    if gamma_err is None:\n",
    "        skewness_err = None\n",
    "    else:\n",
    "        skewness_err = 3*sqrt(2)*pi*sqrt(gamma**4*gamma_err**2/(-2*gamma**2 + pi*(gamma**2 + 1))**5)*(4 - pi)\n",
    "\n",
    "    return (skewness, skewness_err)"
   ]
  },
  {
   "cell_type": "code",
   "execution_count": 112,
   "metadata": {
    "ExecuteTime": {
     "end_time": "2021-02-16T15:28:28.420703Z",
     "start_time": "2021-02-16T15:28:28.415747Z"
    }
   },
   "outputs": [
    {
     "name": "stdout",
     "output_type": "stream",
     "text": [
      "0.7113507569908649 0.0249737325078402\n"
     ]
    }
   ],
   "source": [
    "skew, skew_err = calc_skewness(gamma=3.31153355, gamma_err=0.19318160)\n",
    "print(skew, skew_err)"
   ]
  },
  {
   "cell_type": "code",
   "execution_count": null,
   "metadata": {},
   "outputs": [],
   "source": []
  }
 ],
 "metadata": {
  "kernelspec": {
   "display_name": "Python 3",
   "language": "python",
   "name": "python3"
  },
  "language_info": {
   "codemirror_mode": {
    "name": "ipython",
    "version": 3
   },
   "file_extension": ".py",
   "mimetype": "text/x-python",
   "name": "python",
   "nbconvert_exporter": "python",
   "pygments_lexer": "ipython3",
   "version": "3.8.3"
  },
  "toc": {
   "base_numbering": 1,
   "nav_menu": {},
   "number_sections": true,
   "sideBar": true,
   "skip_h1_title": true,
   "title_cell": "Table of Contents",
   "title_sidebar": "Contents",
   "toc_cell": true,
   "toc_position": {},
   "toc_section_display": true,
   "toc_window_display": true
  }
 },
 "nbformat": 4,
 "nbformat_minor": 2
}
